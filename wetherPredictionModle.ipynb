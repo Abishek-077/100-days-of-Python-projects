{
  "nbformat": 4,
  "nbformat_minor": 0,
  "metadata": {
    "colab": {
      "provenance": [],
      "authorship_tag": "ABX9TyMqwI3o3+nfCC6msHG9utME",
      "include_colab_link": true
    },
    "kernelspec": {
      "name": "python3",
      "display_name": "Python 3"
    },
    "language_info": {
      "name": "python"
    }
  },
  "cells": [
    {
      "cell_type": "markdown",
      "metadata": {
        "id": "view-in-github",
        "colab_type": "text"
      },
      "source": [
        "<a href=\"https://colab.research.google.com/github/Abishek-077/100-days-of-Python-projects/blob/main/wetherPredictionModle.ipynb\" target=\"_parent\"><img src=\"https://colab.research.google.com/assets/colab-badge.svg\" alt=\"Open In Colab\"/></a>"
      ]
    },
    {
      "cell_type": "code",
      "execution_count": null,
      "metadata": {
        "id": "tI5R-wiCptZ-"
      },
      "outputs": [],
      "source": []
    },
    {
      "cell_type": "markdown",
      "source": [
        "\n",
        "Prdictive model Using **sigmoid**\n"
      ],
      "metadata": {
        "id": "YTqhTH-ws_nF"
      }
    },
    {
      "cell_type": "code",
      "source": [
        "import numpy as np\n",
        "\n",
        "# Inputs\n",
        "X = np.array([1, 0, 1])\n",
        "\n",
        "# Weights\n",
        "W = np.array([5, 2, 4])\n",
        "\n",
        "# Weighted sum\n",
        "Z = np.dot(X, W)\n",
        "\n",
        "# Sigmoid activation function\n",
        "def sigmoid(z):\n",
        "    return 1 / (1 + np.exp(-z))\n",
        "\n",
        "# Prediction\n",
        "y_hat = sigmoid(Z)\n",
        "print(\"Predicted Probability (ŷ):\", y_hat)\n",
        "\n",
        "# Decision based on threshold (e.g., 0.5)\n",
        "decision = \"Go Surfing\" if y_hat >= 0.5 else \"Don't Go Surfing\"\n",
        "print(\"Decision:\", decision)\n"
      ],
      "metadata": {
        "colab": {
          "base_uri": "https://localhost:8080/"
        },
        "id": "ubBwuTOZros9",
        "outputId": "6d53834d-ad4a-4a0a-948d-7736a763b6ee"
      },
      "execution_count": null,
      "outputs": [
        {
          "output_type": "stream",
          "name": "stdout",
          "text": [
            "Predicted Probability (ŷ): 0.9998766054240137\n",
            "Decision: Go Surfing\n"
          ]
        }
      ]
    },
    {
      "cell_type": "code",
      "source": [
        "\n"
      ],
      "metadata": {
        "id": "jz46qXGurtbi"
      },
      "execution_count": null,
      "outputs": []
    }
  ]
}